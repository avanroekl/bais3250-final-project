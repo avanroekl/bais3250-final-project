{
 "cells": [
  {
   "cell_type": "code",
   "execution_count": 44,
   "id": "be4147f1-2593-4302-8bb7-568f556f63e2",
   "metadata": {},
   "outputs": [
    {
     "name": "stdout",
     "output_type": "stream",
     "text": [
      "Merged dataset saved to merged_college_data.csv\n"
     ]
    }
   ],
   "source": [
    "import pandas as pd\n",
    "import numpy as np\n",
    "from fuzzywuzzy import process, fuzz\n",
    "\n",
    "tuition_df = pd.read_csv(\"college_tuition_data.csv\")\n",
    "earnings_df = pd.read_csv(\"college_earnings_data.csv\")\n",
    "\n",
    "tuition_df[\"Match Name\"] = tuition_df[\"School Name\"].str.lower().str.strip()\n",
    "earnings_df[\"Match Name\"] = earnings_df[\"School Name\"].str.lower().str.strip()\n",
    "\n",
    "matches = []\n",
    "for name in tuition_df[\"Match Name\"]:\n",
    "    result = process.extractOne(name, earnings_df[\"Match Name\"], scorer=fuzz.token_sort_ratio)\n",
    "    if result is not None and len(result) >= 2:\n",
    "        match = result[0]\n",
    "        score = result[1]\n",
    "        if score >= 97:\n",
    "            matches.append({\"tuition_name\": name, \"earnings_name\": match})\n",
    "\n",
    "matches_df = pd.DataFrame(matches)\n",
    "\n",
    "tuition_matched = pd.merge(tuition_df, matches_df, left_on=\"Match Name\", right_on=\"tuition_name\")\n",
    "merged_df = pd.merge(\n",
    "    tuition_matched,\n",
    "    earnings_df,\n",
    "    left_on=\"earnings_name\",\n",
    "    right_on=\"Match Name\",\n",
    "    suffixes=(\"_tuition\", \"_earnings\")\n",
    ")\n",
    "\n",
    "final_df = merged_df[[\n",
    "    \"School Name_tuition\", \"State\",\n",
    "    \"In-State Tuition_tuition\", \"Out-of-State Tuition_tuition\",\n",
    "    \"Median Earnings (10 yrs)\", \"Acceptance Rate\",\n",
    "    \"SAT/ACT Scores\", \"Student Population\", \"Graduation Rate\"\n",
    "]]\n",
    "\n",
    "final_df = final_df.rename(columns={\n",
    "    \"School Name_tuition\": \"School Name\",\n",
    "    \"In-State Tuition_tuition\": \"In-State Tuition\",\n",
    "    \"Out-of-State Tuition_tuition\": \"Out-of-State Tuition\"\n",
    "})\n",
    "\n",
    "final_df[\"In-State Tuition\"] = final_df[\"In-State Tuition\"].replace({r'\\$': '', r',': ''}, regex=True).astype(float)\n",
    "final_df[\"Out-of-State Tuition\"] = final_df[\"Out-of-State Tuition\"].replace({r'\\$': '', r',': ''}, regex=True).astype(float)\n",
    "final_df[\"Student Population\"] = final_df[\"Student Population\"].replace({r',': ''}, regex=True).astype(float)\n",
    "final_df[\"Graduation Rate\"] = final_df[\"Graduation Rate\"].str.replace('%', '').replace('-', np.nan).astype(float)\n",
    "final_df[\"Acceptance Rate\"] = final_df[\"Acceptance Rate\"].str.replace('%', '').replace('-', np.nan).astype(float)\n",
    "\n",
    "final_df[\"SAT Score\"] = final_df[\"SAT/ACT Scores\"].str.extract(r\"(\\d+)\\sSAT\")[0].astype(float)\n",
    "final_df[\"ACT Score\"] = final_df[\"SAT/ACT Scores\"].str.extract(r\"(\\d+)\\sACT\")[0].astype(float)\n",
    "\n",
    "final_df = final_df.drop(columns=[\"SAT/ACT Scores\"])\n",
    "\n",
    "final_df.to_csv(\"merged_college_data.csv\", index=False)\n",
    "print(\"Merged dataset saved to merged_college_data.csv\")\n"
   ]
  },
  {
   "cell_type": "code",
   "execution_count": null,
   "id": "d8e21816-431b-473e-9e3c-5b96e2f48d1c",
   "metadata": {},
   "outputs": [],
   "source": []
  }
 ],
 "metadata": {
  "kernelspec": {
   "display_name": "Python [conda env:base] *",
   "language": "python",
   "name": "conda-base-py"
  },
  "language_info": {
   "codemirror_mode": {
    "name": "ipython",
    "version": 3
   },
   "file_extension": ".py",
   "mimetype": "text/x-python",
   "name": "python",
   "nbconvert_exporter": "python",
   "pygments_lexer": "ipython3",
   "version": "3.12.7"
  }
 },
 "nbformat": 4,
 "nbformat_minor": 5
}
