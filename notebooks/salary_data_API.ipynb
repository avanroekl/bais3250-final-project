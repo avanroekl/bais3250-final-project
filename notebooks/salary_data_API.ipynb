{
 "cells": [
  {
   "cell_type": "code",
   "execution_count": 22,
   "id": "2bfd1ba2-c51a-40c1-b875-03b63764e400",
   "metadata": {},
   "outputs": [
    {
     "name": "stdout",
     "output_type": "stream",
     "text": [
      "Saved 1000 rows to 'college_earnings_data.csv'\n"
     ]
    }
   ],
   "source": [
    "import requests\n",
    "import pandas as pd\n",
    "\n",
    "API_KEY = \"ZH8AfRyxmr9fynMq49TlyTcZB4bHqQoqcqBQ4mku\"\n",
    "url = \"https://api.data.gov/ed/collegescorecard/v1/schools\"\n",
    "\n",
    "fields = [\n",
    "    \"school.name\",\n",
    "    \"school.state\",\n",
    "    \"latest.cost.tuition.in_state\",\n",
    "    \"latest.cost.tuition.out_of_state\",\n",
    "    \"latest.earnings.10_yrs_after_entry.median\"\n",
    "]\n",
    "\n",
    "all_results = []\n",
    "\n",
    "for page in range(0, 10):\n",
    "    params = {\n",
    "        \"api_key\": API_KEY,\n",
    "        \"fields\": \",\".join(fields),\n",
    "        \"per_page\": 100,\n",
    "        \"page\": page\n",
    "    }\n",
    "    response = requests.get(url, params=params)\n",
    "    if response.status_code != 200:\n",
    "        print(f\"Request failed on page {page}\")\n",
    "        break\n",
    "\n",
    "    try:\n",
    "        data = response.json()\n",
    "        if \"results\" not in data or not data[\"results\"]:\n",
    "            break\n",
    "        all_results.extend(data[\"results\"])\n",
    "    except:\n",
    "        break\n",
    "\n",
    "if all_results:\n",
    "    df = pd.DataFrame(all_results)\n",
    "    df = df.rename(columns={\n",
    "        \"school.name\": \"School Name\",\n",
    "        \"school.state\": \"State\",\n",
    "        \"latest.cost.tuition.in_state\": \"In-State Tuition\",\n",
    "        \"latest.cost.tuition.out_of_state\": \"Out-of-State Tuition\",\n",
    "        \"latest.earnings.10_yrs_after_entry.median\": \"Median Earnings (10 yrs)\"\n",
    "    })\n",
    "    df.to_csv(\"college_earnings_data.csv\", index=False)\n",
    "    print(f\"Saved {len(df)} rows to 'college_earnings_data.csv'\")\n",
    "else:\n",
    "    print(\"No data collected.\")\n"
   ]
  },
  {
   "cell_type": "code",
   "execution_count": null,
   "id": "0125b486-b13d-400b-bd11-5d71c1df8a78",
   "metadata": {},
   "outputs": [],
   "source": []
  }
 ],
 "metadata": {
  "kernelspec": {
   "display_name": "Python [conda env:base] *",
   "language": "python",
   "name": "conda-base-py"
  },
  "language_info": {
   "codemirror_mode": {
    "name": "ipython",
    "version": 3
   },
   "file_extension": ".py",
   "mimetype": "text/x-python",
   "name": "python",
   "nbconvert_exporter": "python",
   "pygments_lexer": "ipython3",
   "version": "3.12.7"
  }
 },
 "nbformat": 4,
 "nbformat_minor": 5
}
